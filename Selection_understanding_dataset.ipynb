{
 "cells": [
  {
   "cell_type": "markdown",
   "metadata": {},
   "source": [
    "# Understading and explaining the data\n",
    "\n",
    " \n",
    "## The libraries that we are using are:"
   ]
  },
  {
   "cell_type": "code",
   "execution_count": 1,
   "metadata": {},
   "outputs": [],
   "source": [
    "import pandas as pd\n",
    "import numpy as np\n",
    "from urllib.request import urlopen\n",
    "\n",
    "import re #regular expression\n",
    "from IPython.display import display, Markdown\n",
    "from datetime import datetime\n",
    "from IPython.display import Image\n",
    "# plotting\n",
    "import matplotlib\n",
    "from matplotlib import pyplot as plt\n",
    "import matplotlib.dates as matdates\n"
   ]
  },
  {
   "cell_type": "markdown",
   "metadata": {},
   "source": [
    "## Let's load and understand the data\n"
   ]
  },
  {
   "cell_type": "code",
   "execution_count": 2,
   "metadata": {},
   "outputs": [
    {
     "data": {
      "text/html": [
       "<img src=\"dataset/dpc-covid19-flusso-dati-it.jpg\" width=\"1000\" height=\"1000\"/>"
      ],
      "text/plain": [
       "<IPython.core.display.Image object>"
      ]
     },
     "execution_count": 2,
     "metadata": {},
     "output_type": "execute_result"
    }
   ],
   "source": [
    "Image(url= \"dataset/dpc-covid19-flusso-dati-it.jpg\", width=1000, height=1000)"
   ]
  },
  {
   "cell_type": "markdown",
   "metadata": {},
   "source": [
    "### Repository Structure"
   ]
  },
  {
   "cell_type": "code",
   "execution_count": 3,
   "metadata": {},
   "outputs": [
    {
     "data": {
      "text/markdown": [
       "```\n",
       "COVID-19/\n",
       "│\n",
       "├── aree/\n",
       "│   ├── geojson\n",
       "│   │   ├── dpc-covid-19-ita-aree-comuni.geojson\n",
       "│   │   ├── dpc-covid19-ita-aree.geojson\n",
       "│   ├── shp\n",
       "│   │   ├── dpc-covid19-ita-aree-comuni.dbf\n",
       "│   │   ├── dpc-covid19-ita-aree-comuni.prj\n",
       "│   │   ├── dpc-covid19-ita-aree-comuni.shp\n",
       "│   │   ├── dpc-covid19-ita-aree-comuni.shx\n",
       "│   │   ├── dpc-covid19-ita-aree.dbf\n",
       "│   │   ├── dpc-covid19-ita-aree.prj\n",
       "│   │   ├── dpc-covid19-ita-aree.shp\n",
       "│   │   ├── dpc-covid19-ita-aree.shx\n",
       "├── dati-andamento-nazionale/\n",
       "│   ├── dpc-covid19-ita-andamento-nazionale-*.csv\n",
       "│   ├── dpc-covid19-ita-andamento-nazionale-latest.csv\n",
       "│   ├── dpc-covid19-ita-andamento-nazionale.csv\n",
       "├── dati-contratti-dpc-forniture/\n",
       "│   ├── dpc-covid19-dati-contratti-dpc-forniture.csv\n",
       "│   ├── dpc-covid19-dati-pagamenti-contratti-dpc-forniture.csv\n",
       "│   ├── dati-json\n",
       "│   │   ├── dpc-covid19-dati-contratti-dpc-forniture.csv\n",
       "│   │   ├── dpc-covid19-dati-pagamenti-contratti-dpc-forniture.csv\n",
       "│   ├── file-atti-negoziali\n",
       "│   │   ├── dpc-contratto-covid19-*.pdf\n",
       "├── dati-json/\n",
       "│   ├── dpc-covid19-ita-andamento-nazionale-latest.json\n",
       "│   ├── dpc-covid19-ita-andamento-nazionale.json\n",
       "│   ├── dpc-covid19-ita-note-en.json\n",
       "│   ├── dpc-covid19-ita-note-it.json\n",
       "│   ├── dpc-covid19-ita-province-latest.json\n",
       "│   ├── dpc-covid19-ita-province.json\n",
       "│   ├── dpc-covid19-ita-regioni-latest.json\n",
       "│   ├── dpc-covid19-ita-regioni.json\n",
       "├── dati-province/\n",
       "│   ├── dpc-covid19-ita-province-*.csv\n",
       "│   ├── dpc-covid19-ita-province-latest.csv\n",
       "│   ├── dpc-covid19-ita-province.csv\n",
       "├── dati-regioni/\n",
       "│   ├── dpc-covid19-ita-regioni-*.csv\n",
       "│   ├── dpc-covid19-ita-regioni-latest.csv\n",
       "│   ├── dpc-covid19-ita-regioni.csv\n",
       "├── metriche\n",
       "│   ├── dpc-covid19-ita-metriche-dashboard-desktop.csv\n",
       "│   ├── dpc-covid19-ita-metriche-dashboard-desktop.json\n",
       "│   ├── dpc-covid19-ita-metriche-dashboard-mobile.csv\n",
       "│   ├── dpc-covid19-ita-metriche-dashboard-mobile.json\n",
       "├── note/\n",
       "│   ├── dpc-covid19-ita-note-en.csv\n",
       "│   ├── dpc-covid19-ita-note-it.csv\n",
       "├── schede-riepilogative/\n",
       "│   ├── province\n",
       "│   │   ├── dpc-covid19-ita-scheda-province-*.pdf\n",
       "│   ├── regioni\n",
       "│   │   ├── dpc-covid19-ita-scheda-regioni-*.pdf\n",
       "```\n",
       "\n"
      ],
      "text/plain": [
       "<IPython.core.display.Markdown object>"
      ]
     },
     "metadata": {},
     "output_type": "display_data"
    }
   ],
   "source": [
    "readme = urlopen(\"https://raw.githubusercontent.com/pcm-dpc/COVID-19/master/README.md\").read().decode('utf=8')\n",
    "repository_structure = readme.partition(\"## Struttura del repository\\n\")[2].partition(\"##\")[0] \n",
    "\n",
    "display(Markdown(repository_structure))"
   ]
  },
  {
   "cell_type": "markdown",
   "metadata": {},
   "source": [
    "## Trend and general situation\n",
    "As we can see from the resulting tree there are many datasets with which we can work. For the moment we will focus on the general dataset dpc-covid19-ita-national-trend.json, which contains the constantly updated list of the progress of the virus. \n",
    "Using the dataset dpc-covid19-ita-national-trend.json we build the general trend of people infected with covid-19. "
   ]
  },
  {
   "cell_type": "code",
   "execution_count": 4,
   "metadata": {},
   "outputs": [],
   "source": [
    "# infections url\n",
    "url = \"https://raw.githubusercontent.com/pcm-dpc/COVID-19/master/dati-json/dpc-covid19-ita-andamento-nazionale.json\"\n",
    "dataframe = pd.read_json(url)"
   ]
  },
  {
   "cell_type": "code",
   "execution_count": 5,
   "metadata": {},
   "outputs": [
    {
     "data": {
      "text/html": [
       "<div>\n",
       "<style scoped>\n",
       "    .dataframe tbody tr th:only-of-type {\n",
       "        vertical-align: middle;\n",
       "    }\n",
       "\n",
       "    .dataframe tbody tr th {\n",
       "        vertical-align: top;\n",
       "    }\n",
       "\n",
       "    .dataframe thead th {\n",
       "        text-align: right;\n",
       "    }\n",
       "</style>\n",
       "<table border=\"1\" class=\"dataframe\">\n",
       "  <thead>\n",
       "    <tr style=\"text-align: right;\">\n",
       "      <th></th>\n",
       "      <th>data</th>\n",
       "      <th>stato</th>\n",
       "      <th>ricoverati_con_sintomi</th>\n",
       "      <th>terapia_intensiva</th>\n",
       "      <th>totale_ospedalizzati</th>\n",
       "      <th>isolamento_domiciliare</th>\n",
       "      <th>totale_positivi</th>\n",
       "      <th>variazione_totale_positivi</th>\n",
       "      <th>nuovi_positivi</th>\n",
       "      <th>dimessi_guariti</th>\n",
       "      <th>...</th>\n",
       "      <th>tamponi</th>\n",
       "      <th>casi_testati</th>\n",
       "      <th>note</th>\n",
       "      <th>ingressi_terapia_intensiva</th>\n",
       "      <th>note_test</th>\n",
       "      <th>note_casi</th>\n",
       "      <th>totale_positivi_test_molecolare</th>\n",
       "      <th>totale_positivi_test_antigenico_rapido</th>\n",
       "      <th>tamponi_test_molecolare</th>\n",
       "      <th>tamponi_test_antigenico_rapido</th>\n",
       "    </tr>\n",
       "  </thead>\n",
       "  <tbody>\n",
       "    <tr>\n",
       "      <th>0</th>\n",
       "      <td>2020-02-24T18:00:00</td>\n",
       "      <td>ITA</td>\n",
       "      <td>101</td>\n",
       "      <td>26</td>\n",
       "      <td>127</td>\n",
       "      <td>94</td>\n",
       "      <td>221</td>\n",
       "      <td>0</td>\n",
       "      <td>221</td>\n",
       "      <td>1</td>\n",
       "      <td>...</td>\n",
       "      <td>4324</td>\n",
       "      <td>NaN</td>\n",
       "      <td>None</td>\n",
       "      <td>NaN</td>\n",
       "      <td>NaN</td>\n",
       "      <td>NaN</td>\n",
       "      <td>NaN</td>\n",
       "      <td>NaN</td>\n",
       "      <td>NaN</td>\n",
       "      <td>NaN</td>\n",
       "    </tr>\n",
       "    <tr>\n",
       "      <th>1</th>\n",
       "      <td>2020-02-25T18:00:00</td>\n",
       "      <td>ITA</td>\n",
       "      <td>114</td>\n",
       "      <td>35</td>\n",
       "      <td>150</td>\n",
       "      <td>162</td>\n",
       "      <td>311</td>\n",
       "      <td>90</td>\n",
       "      <td>93</td>\n",
       "      <td>1</td>\n",
       "      <td>...</td>\n",
       "      <td>8623</td>\n",
       "      <td>NaN</td>\n",
       "      <td>None</td>\n",
       "      <td>NaN</td>\n",
       "      <td>NaN</td>\n",
       "      <td>NaN</td>\n",
       "      <td>NaN</td>\n",
       "      <td>NaN</td>\n",
       "      <td>NaN</td>\n",
       "      <td>NaN</td>\n",
       "    </tr>\n",
       "    <tr>\n",
       "      <th>2</th>\n",
       "      <td>2020-02-26T18:00:00</td>\n",
       "      <td>ITA</td>\n",
       "      <td>128</td>\n",
       "      <td>36</td>\n",
       "      <td>164</td>\n",
       "      <td>221</td>\n",
       "      <td>385</td>\n",
       "      <td>74</td>\n",
       "      <td>78</td>\n",
       "      <td>3</td>\n",
       "      <td>...</td>\n",
       "      <td>9587</td>\n",
       "      <td>NaN</td>\n",
       "      <td>None</td>\n",
       "      <td>NaN</td>\n",
       "      <td>NaN</td>\n",
       "      <td>NaN</td>\n",
       "      <td>NaN</td>\n",
       "      <td>NaN</td>\n",
       "      <td>NaN</td>\n",
       "      <td>NaN</td>\n",
       "    </tr>\n",
       "    <tr>\n",
       "      <th>3</th>\n",
       "      <td>2020-02-27T18:00:00</td>\n",
       "      <td>ITA</td>\n",
       "      <td>248</td>\n",
       "      <td>56</td>\n",
       "      <td>304</td>\n",
       "      <td>284</td>\n",
       "      <td>588</td>\n",
       "      <td>203</td>\n",
       "      <td>250</td>\n",
       "      <td>45</td>\n",
       "      <td>...</td>\n",
       "      <td>12014</td>\n",
       "      <td>NaN</td>\n",
       "      <td>None</td>\n",
       "      <td>NaN</td>\n",
       "      <td>NaN</td>\n",
       "      <td>NaN</td>\n",
       "      <td>NaN</td>\n",
       "      <td>NaN</td>\n",
       "      <td>NaN</td>\n",
       "      <td>NaN</td>\n",
       "    </tr>\n",
       "    <tr>\n",
       "      <th>4</th>\n",
       "      <td>2020-02-28T18:00:00</td>\n",
       "      <td>ITA</td>\n",
       "      <td>345</td>\n",
       "      <td>64</td>\n",
       "      <td>409</td>\n",
       "      <td>412</td>\n",
       "      <td>821</td>\n",
       "      <td>233</td>\n",
       "      <td>238</td>\n",
       "      <td>46</td>\n",
       "      <td>...</td>\n",
       "      <td>15695</td>\n",
       "      <td>NaN</td>\n",
       "      <td>None</td>\n",
       "      <td>NaN</td>\n",
       "      <td>NaN</td>\n",
       "      <td>NaN</td>\n",
       "      <td>NaN</td>\n",
       "      <td>NaN</td>\n",
       "      <td>NaN</td>\n",
       "      <td>NaN</td>\n",
       "    </tr>\n",
       "    <tr>\n",
       "      <th>...</th>\n",
       "      <td>...</td>\n",
       "      <td>...</td>\n",
       "      <td>...</td>\n",
       "      <td>...</td>\n",
       "      <td>...</td>\n",
       "      <td>...</td>\n",
       "      <td>...</td>\n",
       "      <td>...</td>\n",
       "      <td>...</td>\n",
       "      <td>...</td>\n",
       "      <td>...</td>\n",
       "      <td>...</td>\n",
       "      <td>...</td>\n",
       "      <td>...</td>\n",
       "      <td>...</td>\n",
       "      <td>...</td>\n",
       "      <td>...</td>\n",
       "      <td>...</td>\n",
       "      <td>...</td>\n",
       "      <td>...</td>\n",
       "      <td>...</td>\n",
       "    </tr>\n",
       "    <tr>\n",
       "      <th>711</th>\n",
       "      <td>2022-02-04T17:00:00</td>\n",
       "      <td>ITA</td>\n",
       "      <td>19000</td>\n",
       "      <td>1440</td>\n",
       "      <td>20440</td>\n",
       "      <td>2197904</td>\n",
       "      <td>2218344</td>\n",
       "      <td>-109886</td>\n",
       "      <td>99522</td>\n",
       "      <td>9083090</td>\n",
       "      <td>...</td>\n",
       "      <td>174643465</td>\n",
       "      <td>49207964.0</td>\n",
       "      <td>None</td>\n",
       "      <td>114.0</td>\n",
       "      <td>NaN</td>\n",
       "      <td>NaN</td>\n",
       "      <td>7576778.0</td>\n",
       "      <td>3872823.0</td>\n",
       "      <td>82168606.0</td>\n",
       "      <td>92474859.0</td>\n",
       "    </tr>\n",
       "    <tr>\n",
       "      <th>712</th>\n",
       "      <td>2022-02-05T17:00:00</td>\n",
       "      <td>ITA</td>\n",
       "      <td>18615</td>\n",
       "      <td>1411</td>\n",
       "      <td>20026</td>\n",
       "      <td>2108517</td>\n",
       "      <td>2128543</td>\n",
       "      <td>-89801</td>\n",
       "      <td>93157</td>\n",
       "      <td>9265708</td>\n",
       "      <td>...</td>\n",
       "      <td>175489945</td>\n",
       "      <td>49348658.0</td>\n",
       "      <td>None</td>\n",
       "      <td>104.0</td>\n",
       "      <td>NaN</td>\n",
       "      <td>NaN</td>\n",
       "      <td>7608501.0</td>\n",
       "      <td>3934292.0</td>\n",
       "      <td>82366772.0</td>\n",
       "      <td>93123173.0</td>\n",
       "    </tr>\n",
       "    <tr>\n",
       "      <th>713</th>\n",
       "      <td>2022-02-06T17:00:00</td>\n",
       "      <td>ITA</td>\n",
       "      <td>18498</td>\n",
       "      <td>1431</td>\n",
       "      <td>19929</td>\n",
       "      <td>2053319</td>\n",
       "      <td>2073248</td>\n",
       "      <td>-55295</td>\n",
       "      <td>78952</td>\n",
       "      <td>9399717</td>\n",
       "      <td>...</td>\n",
       "      <td>176176489</td>\n",
       "      <td>49467196.0</td>\n",
       "      <td>None</td>\n",
       "      <td>105.0</td>\n",
       "      <td>NaN</td>\n",
       "      <td>NaN</td>\n",
       "      <td>7633243.0</td>\n",
       "      <td>3988493.0</td>\n",
       "      <td>82517134.0</td>\n",
       "      <td>93659355.0</td>\n",
       "    </tr>\n",
       "    <tr>\n",
       "      <th>714</th>\n",
       "      <td>2022-02-07T17:00:00</td>\n",
       "      <td>ITA</td>\n",
       "      <td>18675</td>\n",
       "      <td>1423</td>\n",
       "      <td>20098</td>\n",
       "      <td>1970603</td>\n",
       "      <td>1990701</td>\n",
       "      <td>-82547</td>\n",
       "      <td>41247</td>\n",
       "      <td>9523540</td>\n",
       "      <td>...</td>\n",
       "      <td>176570152</td>\n",
       "      <td>49539069.0</td>\n",
       "      <td>None</td>\n",
       "      <td>70.0</td>\n",
       "      <td>NaN</td>\n",
       "      <td>NaN</td>\n",
       "      <td>7646782.0</td>\n",
       "      <td>4016556.0</td>\n",
       "      <td>82605992.0</td>\n",
       "      <td>93964160.0</td>\n",
       "    </tr>\n",
       "    <tr>\n",
       "      <th>715</th>\n",
       "      <td>2022-02-08T17:00:00</td>\n",
       "      <td>ITA</td>\n",
       "      <td>18337</td>\n",
       "      <td>1376</td>\n",
       "      <td>19713</td>\n",
       "      <td>1908087</td>\n",
       "      <td>1927800</td>\n",
       "      <td>-62901</td>\n",
       "      <td>101864</td>\n",
       "      <td>9688455</td>\n",
       "      <td>...</td>\n",
       "      <td>177569247</td>\n",
       "      <td>49692990.0</td>\n",
       "      <td>None</td>\n",
       "      <td>99.0</td>\n",
       "      <td>NaN</td>\n",
       "      <td>NaN</td>\n",
       "      <td>7671892.0</td>\n",
       "      <td>4093875.0</td>\n",
       "      <td>82785626.0</td>\n",
       "      <td>94783621.0</td>\n",
       "    </tr>\n",
       "  </tbody>\n",
       "</table>\n",
       "<p>716 rows × 24 columns</p>\n",
       "</div>"
      ],
      "text/plain": [
       "                    data stato  ricoverati_con_sintomi  terapia_intensiva  \\\n",
       "0    2020-02-24T18:00:00   ITA                     101                 26   \n",
       "1    2020-02-25T18:00:00   ITA                     114                 35   \n",
       "2    2020-02-26T18:00:00   ITA                     128                 36   \n",
       "3    2020-02-27T18:00:00   ITA                     248                 56   \n",
       "4    2020-02-28T18:00:00   ITA                     345                 64   \n",
       "..                   ...   ...                     ...                ...   \n",
       "711  2022-02-04T17:00:00   ITA                   19000               1440   \n",
       "712  2022-02-05T17:00:00   ITA                   18615               1411   \n",
       "713  2022-02-06T17:00:00   ITA                   18498               1431   \n",
       "714  2022-02-07T17:00:00   ITA                   18675               1423   \n",
       "715  2022-02-08T17:00:00   ITA                   18337               1376   \n",
       "\n",
       "     totale_ospedalizzati  isolamento_domiciliare  totale_positivi  \\\n",
       "0                     127                      94              221   \n",
       "1                     150                     162              311   \n",
       "2                     164                     221              385   \n",
       "3                     304                     284              588   \n",
       "4                     409                     412              821   \n",
       "..                    ...                     ...              ...   \n",
       "711                 20440                 2197904          2218344   \n",
       "712                 20026                 2108517          2128543   \n",
       "713                 19929                 2053319          2073248   \n",
       "714                 20098                 1970603          1990701   \n",
       "715                 19713                 1908087          1927800   \n",
       "\n",
       "     variazione_totale_positivi  nuovi_positivi  dimessi_guariti  ...  \\\n",
       "0                             0             221                1  ...   \n",
       "1                            90              93                1  ...   \n",
       "2                            74              78                3  ...   \n",
       "3                           203             250               45  ...   \n",
       "4                           233             238               46  ...   \n",
       "..                          ...             ...              ...  ...   \n",
       "711                     -109886           99522          9083090  ...   \n",
       "712                      -89801           93157          9265708  ...   \n",
       "713                      -55295           78952          9399717  ...   \n",
       "714                      -82547           41247          9523540  ...   \n",
       "715                      -62901          101864          9688455  ...   \n",
       "\n",
       "       tamponi  casi_testati  note  ingressi_terapia_intensiva  note_test  \\\n",
       "0         4324           NaN  None                         NaN        NaN   \n",
       "1         8623           NaN  None                         NaN        NaN   \n",
       "2         9587           NaN  None                         NaN        NaN   \n",
       "3        12014           NaN  None                         NaN        NaN   \n",
       "4        15695           NaN  None                         NaN        NaN   \n",
       "..         ...           ...   ...                         ...        ...   \n",
       "711  174643465    49207964.0  None                       114.0        NaN   \n",
       "712  175489945    49348658.0  None                       104.0        NaN   \n",
       "713  176176489    49467196.0  None                       105.0        NaN   \n",
       "714  176570152    49539069.0  None                        70.0        NaN   \n",
       "715  177569247    49692990.0  None                        99.0        NaN   \n",
       "\n",
       "     note_casi totale_positivi_test_molecolare  \\\n",
       "0          NaN                             NaN   \n",
       "1          NaN                             NaN   \n",
       "2          NaN                             NaN   \n",
       "3          NaN                             NaN   \n",
       "4          NaN                             NaN   \n",
       "..         ...                             ...   \n",
       "711        NaN                       7576778.0   \n",
       "712        NaN                       7608501.0   \n",
       "713        NaN                       7633243.0   \n",
       "714        NaN                       7646782.0   \n",
       "715        NaN                       7671892.0   \n",
       "\n",
       "     totale_positivi_test_antigenico_rapido  tamponi_test_molecolare  \\\n",
       "0                                       NaN                      NaN   \n",
       "1                                       NaN                      NaN   \n",
       "2                                       NaN                      NaN   \n",
       "3                                       NaN                      NaN   \n",
       "4                                       NaN                      NaN   \n",
       "..                                      ...                      ...   \n",
       "711                               3872823.0               82168606.0   \n",
       "712                               3934292.0               82366772.0   \n",
       "713                               3988493.0               82517134.0   \n",
       "714                               4016556.0               82605992.0   \n",
       "715                               4093875.0               82785626.0   \n",
       "\n",
       "     tamponi_test_antigenico_rapido  \n",
       "0                               NaN  \n",
       "1                               NaN  \n",
       "2                               NaN  \n",
       "3                               NaN  \n",
       "4                               NaN  \n",
       "..                              ...  \n",
       "711                      92474859.0  \n",
       "712                      93123173.0  \n",
       "713                      93659355.0  \n",
       "714                      93964160.0  \n",
       "715                      94783621.0  \n",
       "\n",
       "[716 rows x 24 columns]"
      ]
     },
     "execution_count": 5,
     "metadata": {},
     "output_type": "execute_result"
    }
   ],
   "source": [
    "dataframe"
   ]
  },
  {
   "cell_type": "code",
   "execution_count": 6,
   "metadata": {},
   "outputs": [
    {
     "data": {
      "text/plain": [
       "Index(['data', 'stato', 'ricoverati_con_sintomi', 'terapia_intensiva',\n",
       "       'totale_ospedalizzati', 'isolamento_domiciliare', 'totale_positivi',\n",
       "       'variazione_totale_positivi', 'nuovi_positivi', 'dimessi_guariti',\n",
       "       'deceduti', 'casi_da_sospetto_diagnostico', 'casi_da_screening',\n",
       "       'totale_casi', 'tamponi', 'casi_testati', 'note',\n",
       "       'ingressi_terapia_intensiva', 'note_test', 'note_casi',\n",
       "       'totale_positivi_test_molecolare',\n",
       "       'totale_positivi_test_antigenico_rapido', 'tamponi_test_molecolare',\n",
       "       'tamponi_test_antigenico_rapido'],\n",
       "      dtype='object')"
      ]
     },
     "execution_count": 6,
     "metadata": {},
     "output_type": "execute_result"
    }
   ],
   "source": [
    "dataframe.columns # to see all the columns of the dataframe object"
   ]
  },
  {
   "cell_type": "markdown",
   "metadata": {},
   "source": [
    "### The difference between \"casi_da_sospetto_diagnostico\" and \"casi_da_screening\":\n",
    "Casi identificati dal sospetto diagnostico = casi positivi al tampone emersi da attività clinica.                              <br>Casi identificati da attività di screening = casi che emergono da indagini e test, pianificati a livello nazionale o regionale, che diagnosticano casi positivi al tampone."
   ]
  },
  {
   "cell_type": "markdown",
   "metadata": {},
   "source": [
    "## Now let's see the infected total cases and new cases/day using pandas dataframe"
   ]
  },
  {
   "cell_type": "code",
   "execution_count": 9,
   "metadata": {},
   "outputs": [
    {
     "data": {
      "text/html": [
       "<div>\n",
       "<style scoped>\n",
       "    .dataframe tbody tr th:only-of-type {\n",
       "        vertical-align: middle;\n",
       "    }\n",
       "\n",
       "    .dataframe tbody tr th {\n",
       "        vertical-align: top;\n",
       "    }\n",
       "\n",
       "    .dataframe thead th {\n",
       "        text-align: right;\n",
       "    }\n",
       "</style>\n",
       "<table border=\"1\" class=\"dataframe\">\n",
       "  <thead>\n",
       "    <tr style=\"text-align: right;\">\n",
       "      <th></th>\n",
       "      <th>total</th>\n",
       "      <th>daily</th>\n",
       "    </tr>\n",
       "    <tr>\n",
       "      <th>data</th>\n",
       "      <th></th>\n",
       "      <th></th>\n",
       "    </tr>\n",
       "  </thead>\n",
       "  <tbody>\n",
       "    <tr>\n",
       "      <th>2020-02-24 18:00:00</th>\n",
       "      <td>229</td>\n",
       "      <td>221</td>\n",
       "    </tr>\n",
       "    <tr>\n",
       "      <th>2020-02-25 18:00:00</th>\n",
       "      <td>322</td>\n",
       "      <td>93</td>\n",
       "    </tr>\n",
       "    <tr>\n",
       "      <th>2020-02-26 18:00:00</th>\n",
       "      <td>400</td>\n",
       "      <td>78</td>\n",
       "    </tr>\n",
       "    <tr>\n",
       "      <th>2020-02-27 18:00:00</th>\n",
       "      <td>650</td>\n",
       "      <td>250</td>\n",
       "    </tr>\n",
       "    <tr>\n",
       "      <th>2020-02-28 18:00:00</th>\n",
       "      <td>888</td>\n",
       "      <td>238</td>\n",
       "    </tr>\n",
       "    <tr>\n",
       "      <th>...</th>\n",
       "      <td>...</td>\n",
       "      <td>...</td>\n",
       "    </tr>\n",
       "    <tr>\n",
       "      <th>2022-02-04 17:00:00</th>\n",
       "      <td>11449601</td>\n",
       "      <td>99522</td>\n",
       "    </tr>\n",
       "    <tr>\n",
       "      <th>2022-02-05 17:00:00</th>\n",
       "      <td>11542793</td>\n",
       "      <td>93157</td>\n",
       "    </tr>\n",
       "    <tr>\n",
       "      <th>2022-02-06 17:00:00</th>\n",
       "      <td>11621736</td>\n",
       "      <td>78952</td>\n",
       "    </tr>\n",
       "    <tr>\n",
       "      <th>2022-02-07 17:00:00</th>\n",
       "      <td>11663338</td>\n",
       "      <td>41247</td>\n",
       "    </tr>\n",
       "    <tr>\n",
       "      <th>2022-02-08 17:00:00</th>\n",
       "      <td>11765767</td>\n",
       "      <td>101864</td>\n",
       "    </tr>\n",
       "  </tbody>\n",
       "</table>\n",
       "<p>716 rows × 2 columns</p>\n",
       "</div>"
      ],
      "text/plain": [
       "                        total   daily\n",
       "data                                 \n",
       "2020-02-24 18:00:00       229     221\n",
       "2020-02-25 18:00:00       322      93\n",
       "2020-02-26 18:00:00       400      78\n",
       "2020-02-27 18:00:00       650     250\n",
       "2020-02-28 18:00:00       888     238\n",
       "...                       ...     ...\n",
       "2022-02-04 17:00:00  11449601   99522\n",
       "2022-02-05 17:00:00  11542793   93157\n",
       "2022-02-06 17:00:00  11621736   78952\n",
       "2022-02-07 17:00:00  11663338   41247\n",
       "2022-02-08 17:00:00  11765767  101864\n",
       "\n",
       "[716 rows x 2 columns]"
      ]
     },
     "execution_count": 9,
     "metadata": {},
     "output_type": "execute_result"
    }
   ],
   "source": [
    "infections = dataframe[['totale_casi', 'nuovi_positivi']].copy()\n",
    "infections.columns = ['total', 'daily'] \n",
    "date_format = '%Y-%m-%dT%H:%M:%S' #datetime format\n",
    "infections.index = dataframe['data'].apply(lambda x: datetime.strptime(x, date_format)) #creates a datetime object from the given string\n",
    "infections"
   ]
  },
  {
   "cell_type": "markdown",
   "metadata": {},
   "source": [
    "### Observation period and data collection"
   ]
  },
  {
   "cell_type": "code",
   "execution_count": 11,
   "metadata": {},
   "outputs": [
    {
     "data": {
      "text/plain": [
       "714"
      ]
     },
     "execution_count": 11,
     "metadata": {},
     "output_type": "execute_result"
    }
   ],
   "source": [
    "period = (\n",
    "    datetime.strptime(dataframe[\"data\"].iloc[-1], \"%Y-%m-%dT%H:%M:%S\") -  \n",
    "    datetime.strptime(dataframe[\"data\"].iloc[0], \"%Y-%m-%dT%H:%M:%S\") # Last_Day - First Day\n",
    ").days\n",
    "period\n"
   ]
  },
  {
   "cell_type": "code",
   "execution_count": 12,
   "metadata": {},
   "outputs": [
    {
     "name": "stdout",
     "output_type": "stream",
     "text": [
      "First date: 2020-02-24 18:00:00\n",
      "Last date: 2022-02-08 17:00:00\n",
      "Interval: 714 days\n"
     ]
    },
    {
     "data": {
      "text/html": [
       "<div>\n",
       "<style scoped>\n",
       "    .dataframe tbody tr th:only-of-type {\n",
       "        vertical-align: middle;\n",
       "    }\n",
       "\n",
       "    .dataframe tbody tr th {\n",
       "        vertical-align: top;\n",
       "    }\n",
       "\n",
       "    .dataframe thead th {\n",
       "        text-align: right;\n",
       "    }\n",
       "</style>\n",
       "<table border=\"1\" class=\"dataframe\">\n",
       "  <thead>\n",
       "    <tr style=\"text-align: right;\">\n",
       "      <th></th>\n",
       "      <th>FIRST DATE</th>\n",
       "      <th>LAST DATE</th>\n",
       "      <th>INTERVAL</th>\n",
       "    </tr>\n",
       "  </thead>\n",
       "  <tbody>\n",
       "    <tr>\n",
       "      <th>0</th>\n",
       "      <td>2020-02-24 18:00:00</td>\n",
       "      <td>2022-02-08 17:00:00</td>\n",
       "      <td>714</td>\n",
       "    </tr>\n",
       "  </tbody>\n",
       "</table>\n",
       "</div>"
      ],
      "text/plain": [
       "           FIRST DATE           LAST DATE INTERVAL\n",
       "0 2020-02-24 18:00:00 2022-02-08 17:00:00      714"
      ]
     },
     "execution_count": 12,
     "metadata": {},
     "output_type": "execute_result"
    }
   ],
   "source": [
    "interval_df = pd.DataFrame(columns=['FIRST DATE','LAST DATE', 'INTERVAL'])\n",
    "interval_df.loc[0] = [dataframe[\"data\"].iloc[0]] + [dataframe[\"data\"].iloc[-1]] + [period]\n",
    "interval_df['FIRST DATE'] = pd.to_datetime(interval_df[\"FIRST DATE\"])\n",
    "interval_df['LAST DATE'] = pd.to_datetime(interval_df[\"LAST DATE\"])\n",
    "\n",
    "print(\"First date: {}\".format(interval_df['FIRST DATE'][0]))\n",
    "print(\"Last date: {}\".format(interval_df['LAST DATE'][0]))\n",
    "print(\"Interval: {} days\".format(period))\n",
    "\n",
    "interval_df"
   ]
  },
  {
   "cell_type": "markdown",
   "metadata": {},
   "source": [
    "### Daily trend of infections\n",
    "Let's build a graph for the daily trend of infections by dividing the region of the graph into the respective **Phases** of the implemented decree:\n",
    "   - **Phase 1**:  09/03/2020 - 03/05/2020 , Lockdown period.\n",
    "   - **Phase 2**:  04/05/2020  - 14/06/2020 , Relaxation of containment measures.\n",
    "   - **Phase 3**:  15/06/2020  -  06/11/2020, living with COVID-19 .\n",
    "   - **Second wave**: 06/11/2020 -  14/12/2021, 06/11/2020-new DPCM that divides Italy into 3 zones.\n",
    "   - **Third wave**:15/12/2021 - until now\n",
    "   "
   ]
  },
  {
   "cell_type": "code",
   "execution_count": 43,
   "metadata": {},
   "outputs": [
    {
     "data": {
      "text/html": [
       "<img src=\"dataset/italia_3_zone.jpg\" width=\"500\" height=\"500\"/>"
      ],
      "text/plain": [
       "<IPython.core.display.Image object>"
      ]
     },
     "execution_count": 43,
     "metadata": {},
     "output_type": "execute_result"
    }
   ],
   "source": [
    "Image(url= \"dataset/italia_3_zone.jpg\", width=500, height=500) # illustrative photo"
   ]
  },
  {
   "cell_type": "code",
   "execution_count": 51,
   "metadata": {},
   "outputs": [],
   "source": [
    "# set dates for 'phase' 1 and 2.\n",
    "phase_1 = pd.Timestamp('2020-03-09')\n",
    "phase_2 = pd.Timestamp('2020-05-04')\n",
    "phase_3 = pd.Timestamp('2020-06-15')\n",
    "second_wave = pd.Timestamp('2020-10-18')\n",
    "third_wave = pd.Timestamp('2021-12-15')"
   ]
  },
  {
   "cell_type": "code",
   "execution_count": 55,
   "metadata": {},
   "outputs": [
    {
     "data": {
      "image/png": "[encoded data removed]",
      "text/plain": [
       "<Figure size 1600x800 with 1 Axes>"
      ]
     },
     "metadata": {},
     "output_type": "display_data"
    }
   ],
   "source": [
    "infections['daily'].plot(figsize=[20, 10])\n",
    "\n",
    "# displaying labels on top of the plot\n",
    "textY = infections['daily'].max()\n",
    "\n",
    "# vertical line corresponding to the beginning of restriction laws (phase 1).\n",
    "plt.axvline(phase_1,ymin=0, ymax=1, color='b',linewidth=3)\n",
    "# using offset for setting the text in the midddle of the area between intervals\n",
    "plt.text(phase_1 + pd.offsets.Day(7), textY, 'phase 1', fontsize=15,color='b' ) \n",
    "\n",
    "plt.axvline(phase_2,ymin=0, ymax=1, color='g',linewidth=3)\n",
    "plt.text(phase_2 + pd.offsets.Day(2), textY, 'phase 2', fontsize=15, color='g')\n",
    "\n",
    "plt.axvline(phase_3,ymin=0, ymax=1, color='k',linewidth=3)\n",
    "plt.text(phase_3 + pd.offsets.Day(35), textY, 'phase 3', fontsize=15,color='k')\n",
    "\n",
    "plt.axvline(second_wave,ymin=0, ymax=1, color='m',linewidth=3)\n",
    "plt.text(second_wave + pd.offsets.Day(170), textY, 'Second wave', fontsize=15, color='m')\n",
    "\n",
    "plt.axvline(third_wave,ymin=0, ymax=1, color='y',linewidth=3)\n",
    "plt.text(third_wave + pd.offsets.Day(3), textY, 'Third wave', fontsize=15, color='y')\n",
    "\n",
    "plt.xlabel(\"Period (data)\")\n",
    "plt.ylabel(\"Number of infections\")\n",
    "plt.show()"
   ]
  },
  {
   "cell_type": "code",
   "execution_count": 39,
   "metadata": {},
   "outputs": [
    {
     "data": {
      "text/plain": [
       "Timestamp('2022-01-11 17:00:00')"
      ]
     },
     "execution_count": 39,
     "metadata": {},
     "output_type": "execute_result"
    }
   ],
   "source": [
    " infections['daily'].idxmax(axis = 0)"
   ]
  },
  {
   "cell_type": "markdown",
   "metadata": {},
   "source": [
    "From the graphs shown above it is possible to see that the maximum daily number of infected people is **220532** and it is obtained on **11/01/2022**."
   ]
  },
  {
   "cell_type": "code",
   "execution_count": 41,
   "metadata": {},
   "outputs": [
    {
     "name": "stdout",
     "output_type": "stream",
     "text": [
      "Day with the highest number of infections:  11/01/2022\n",
      "Number of infections:  220532\n"
     ]
    }
   ],
   "source": [
    "max_infections = infections['daily'].idxmax(axis = 0)\n",
    "print(\"Day with the highest number of infections: \", max_infections.strftime(\"%d/%m/%Y\"))\n",
    "print(\"Number of infections: \", infections['daily'][max_infections])"
   ]
  },
  {
   "cell_type": "markdown",
   "metadata": {},
   "source": [
    "### Total positive change"
   ]
  },
  {
   "cell_type": "code",
   "execution_count": 42,
   "metadata": {},
   "outputs": [
    {
     "data": {
      "image/png": "[encoded data removed]",
      "text/plain": [
       "<Figure size 1600x800 with 1 Axes>"
      ]
     },
     "metadata": {},
     "output_type": "display_data"
    }
   ],
   "source": [
    "plt.style.use('classic')\n",
    "\n",
    "fig = plt.figure(figsize=(20, 10))\n",
    "x_axis = dataframe['data'].apply(lambda x: datetime.strptime(x, date_format))\n",
    "\n",
    "plt.plot(x_axis, dataframe['variazione_totale_positivi'], color='b', label='Total positive change')\n",
    "ax = plt.gca()\n",
    "yabs_max = abs(max(ax.get_ylim(), key=abs)) # Force zero to the center of y axis \n",
    "ax.set_ylim(ymin=-yabs_max, ymax=yabs_max)\n",
    "\n",
    "plt.title('Total positive change')\n",
    "plt.grid(linewidth=2,color='g')\n",
    "plt.show()"
   ]
  },
  {
   "cell_type": "code",
   "execution_count": null,
   "metadata": {},
   "outputs": [],
   "source": []
  }
 ],
 "metadata": {
  "kernelspec": {
   "display_name": "Python 3",
   "language": "python",
   "name": "python3"
  },
  "language_info": {
   "codemirror_mode": {
    "name": "ipython",
    "version": 3
   },
   "file_extension": ".py",
   "mimetype": "text/x-python",
   "name": "python",
   "nbconvert_exporter": "python",
   "pygments_lexer": "ipython3",
   "version": "3.8.5"
  }
 },
 "nbformat": 4,
 "nbformat_minor": 4
}
